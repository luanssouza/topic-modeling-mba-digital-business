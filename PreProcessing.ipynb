{
  "nbformat": 4,
  "nbformat_minor": 0,
  "metadata": {
    "colab": {
      "provenance": []
    },
    "kernelspec": {
      "name": "python3",
      "display_name": "Python 3"
    },
    "language_info": {
      "name": "python"
    }
  },
  "cells": [
    {
      "cell_type": "markdown",
      "source": [
        "# B2W-Reviews01\n",
        "\n",
        "More information: https://github.com/americanas-tech/b2w-reviews01/blob/main/README.md"
      ],
      "metadata": {
        "id": "aKxeTCyxpRjN"
      }
    },
    {
      "cell_type": "markdown",
      "source": [
        "## Configuration"
      ],
      "metadata": {
        "id": "ghWnOFndL-Us"
      }
    },
    {
      "cell_type": "code",
      "execution_count": null,
      "metadata": {
        "id": "8tcZU4z4F8cg"
      },
      "outputs": [],
      "source": [
        "## If you are using a Folder on Google Drive\n",
        "# from google.colab import drive\n",
        "# drive.mount('/content/drive')\n",
        "\n",
        "folder = ''"
      ]
    },
    {
      "cell_type": "code",
      "source": [
        "import time\n",
        "import joblib\n",
        "import requests\n",
        "\n",
        "from io import BytesIO"
      ],
      "metadata": {
        "id": "a3IIkG8l2ZDx"
      },
      "execution_count": null,
      "outputs": []
    },
    {
      "cell_type": "code",
      "source": [
        "import numpy as np\n",
        "import pandas as pd\n",
        "import seaborn as sns\n",
        "import matplotlib.pyplot as plt\n",
        "\n",
        "from wordcloud import WordCloud"
      ],
      "metadata": {
        "id": "0HKa3qqzGZ_R"
      },
      "execution_count": null,
      "outputs": []
    },
    {
      "cell_type": "code",
      "source": [
        "import nltk\n",
        "from nltk import word_tokenize\n",
        "\n",
        "nltk.download('punkt')"
      ],
      "metadata": {
        "id": "qtx8MLoW2lj6"
      },
      "execution_count": null,
      "outputs": []
    },
    {
      "cell_type": "code",
      "source": [
        "!pip install transformers sentencepiece -q"
      ],
      "metadata": {
        "id": "Ulri-8F31fp2"
      },
      "execution_count": null,
      "outputs": []
    },
    {
      "cell_type": "code",
      "source": [
        "from transformers import pipeline\n",
        "\n",
        "model_path = \"citizenlab/twitter-xlm-roberta-base-sentiment-finetunned\"\n",
        "\n",
        "sentiment_classifier = pipeline(\"text-classification\", model=model_path, tokenizer=model_path)"
      ],
      "metadata": {
        "id": "JBufIUCs1hFI"
      },
      "execution_count": null,
      "outputs": []
    },
    {
      "cell_type": "code",
      "source": [
        "!pip install spacy -q\n",
        "!python -m spacy download pt_core_news_lg -q"
      ],
      "metadata": {
        "id": "kZFkKEk8R7Pm"
      },
      "execution_count": null,
      "outputs": []
    },
    {
      "cell_type": "code",
      "source": [
        "import spacy\n",
        "\n",
        "nlp_sp = spacy.load('pt_core_news_lg')\n",
        "\n",
        "stop_words_pt = nlp_sp.Defaults.stop_words"
      ],
      "metadata": {
        "id": "WuseklJC2BTQ"
      },
      "execution_count": null,
      "outputs": []
    },
    {
      "cell_type": "code",
      "source": [
        "df = pd.read_csv(folder + 'B2W-Reviews01.csv')\n",
        "\n",
        "column = 'review_text'\n",
        "file_suffix = 'Text'"
      ],
      "metadata": {
        "id": "2mC5_4BT7kn8"
      },
      "execution_count": null,
      "outputs": []
    },
    {
      "cell_type": "markdown",
      "source": [
        "## Exploratory data analysis"
      ],
      "metadata": {
        "id": "qUo790Zu2W1b"
      }
    },
    {
      "cell_type": "code",
      "source": [
        "df.columns"
      ],
      "metadata": {
        "id": "d6Jm1IVUGS34"
      },
      "execution_count": null,
      "outputs": []
    },
    {
      "cell_type": "code",
      "source": [
        "df.info()"
      ],
      "metadata": {
        "id": "ZaFoc0sS2H28"
      },
      "execution_count": null,
      "outputs": []
    },
    {
      "cell_type": "code",
      "source": [
        "df.describe()"
      ],
      "metadata": {
        "id": "qUMkPEUy1TYp"
      },
      "execution_count": null,
      "outputs": []
    },
    {
      "cell_type": "code",
      "source": [
        "df.head(2)"
      ],
      "metadata": {
        "id": "7v_fJZ3v8EwM"
      },
      "execution_count": null,
      "outputs": []
    },
    {
      "cell_type": "code",
      "source": [
        "df_numeric = df[['overall_rating', 'reviewer_birth_year']]\n",
        "print(f'numeric columns mean: \\n{df_numeric.mean()}\\n')\n",
        "print(f'numeric columns median: \\n{df_numeric.median()}\\n')\n",
        "print(f'numeric columns min: \\n{df_numeric.min()}\\n')\n",
        "print(f'numeric columns max: \\n{df_numeric.max()}\\n')"
      ],
      "metadata": {
        "id": "HUqOdRcI2QR5"
      },
      "execution_count": null,
      "outputs": []
    },
    {
      "cell_type": "code",
      "source": [
        "df['submission_date'].head()"
      ],
      "metadata": {
        "id": "4l5fs-Lk267U"
      },
      "execution_count": null,
      "outputs": []
    },
    {
      "cell_type": "code",
      "source": [
        "print('number of users:', len(df['reviewer_id'].unique()))\n",
        "print('number of products:', len(df['product_id'].unique()))\n",
        "print('number of brands:', len(df['product_brand'].unique()))\n",
        "print('number of categories level 1:', len(df['site_category_lv1'].unique()))\n",
        "print('number of categories level 2:', len(df['site_category_lv2'].unique()))"
      ],
      "metadata": {
        "id": "m774q4BB3eyW"
      },
      "execution_count": null,
      "outputs": []
    },
    {
      "cell_type": "code",
      "source": [
        "df.groupby('reviewer_state')['reviewer_state'].count()"
      ],
      "metadata": {
        "id": "G6LC5ZVe5sso"
      },
      "execution_count": null,
      "outputs": []
    },
    {
      "cell_type": "code",
      "source": [
        "df.groupby('reviewer_gender')['reviewer_gender'].count()"
      ],
      "metadata": {
        "id": "0ZocEsOT8VvE"
      },
      "execution_count": null,
      "outputs": []
    },
    {
      "cell_type": "code",
      "source": [
        "df.groupby('recommend_to_a_friend')['recommend_to_a_friend'].count()"
      ],
      "metadata": {
        "id": "VpNhsdfW8ejo"
      },
      "execution_count": null,
      "outputs": []
    },
    {
      "cell_type": "markdown",
      "source": [
        "## Plotting data"
      ],
      "metadata": {
        "id": "Sni6W6Mc76d0"
      }
    },
    {
      "cell_type": "code",
      "source": [
        "fig, axes = plt.subplots(1, 2, figsize=(10, 5),)\n",
        "df.groupby('reviewer_state')['reviewer_state'].count().plot(kind='bar', ax=axes[0])\n",
        "sns.histplot(df.groupby('reviewer_state')['reviewer_state'].count(), kde=True, ax=axes[1])\n",
        "plt.show()"
      ],
      "metadata": {
        "id": "-oVDqy0cnKua"
      },
      "execution_count": null,
      "outputs": []
    },
    {
      "cell_type": "code",
      "source": [
        "fig, axes = plt.subplots(1, 2, figsize=(10, 5),)\n",
        "df.groupby('reviewer_gender')['reviewer_gender'].count().plot(kind='pie', ax=axes[0])\n",
        "df.groupby('recommend_to_a_friend')['recommend_to_a_friend'].count().plot(kind='pie', ax=axes[1])\n",
        "plt.show()"
      ],
      "metadata": {
        "id": "jRGSPo_MnkZc"
      },
      "execution_count": null,
      "outputs": []
    },
    {
      "cell_type": "code",
      "source": [
        "fig, axes = plt.subplots(1, 2, figsize=(10, 5))\n",
        "sns.boxplot(df['overall_rating'], ax=axes[0])\n",
        "sns.histplot(df['overall_rating'], ax=axes[1])\n",
        "plt.show()"
      ],
      "metadata": {
        "id": "Aa_DrDFEqqVX"
      },
      "execution_count": null,
      "outputs": []
    },
    {
      "cell_type": "code",
      "source": [
        "fig, axes = plt.subplots(1, 3, figsize=(15, 5))\n",
        "sns.boxplot(df['reviewer_birth_year'], ax=axes[0])\n",
        "sns.boxplot(df[df['reviewer_birth_year'] > 1900]['reviewer_birth_year'], ax=axes[1])\n",
        "sns.histplot(df[df['reviewer_birth_year'] > 1900]['reviewer_birth_year'], kde=True, ax=axes[2])\n",
        "plt.show()"
      ],
      "metadata": {
        "id": "9EaDqOxcrEs3"
      },
      "execution_count": null,
      "outputs": []
    },
    {
      "cell_type": "code",
      "source": [
        "fig, axes = plt.subplots(1, 3, figsize=(15, 5))\n",
        "sns.histplot(df.groupby('product_brand')['product_brand'].count(), kde=True, binwidth=3, ax=axes[0])\n",
        "sns.histplot(df.groupby('site_category_lv2')['site_category_lv2'].count(), kde=True, ax=axes[1])\n",
        "sns.histplot(df.groupby('site_category_lv1')['site_category_lv1'].count(), kde=True, ax=axes[2])\n",
        "plt.show()"
      ],
      "metadata": {
        "id": "HCTVO8Tw0V5G"
      },
      "execution_count": null,
      "outputs": []
    },
    {
      "cell_type": "markdown",
      "source": [
        "## Processing user reviews"
      ],
      "metadata": {
        "id": "Zdy7XFj3cF-u"
      }
    },
    {
      "cell_type": "markdown",
      "source": [
        "### Using Bag-of-Words"
      ],
      "metadata": {
        "id": "RVQw7Q5GQQcs"
      }
    },
    {
      "cell_type": "markdown",
      "source": [
        "#### Spacy Aspect-Extraction"
      ],
      "metadata": {
        "id": "1Zrh5BngFHEC"
      }
    },
    {
      "cell_type": "code",
      "source": [
        "df_nouns = df[df[column].isna() == False].copy()\n",
        "df_nouns['review_nouns'] = ''\n",
        "df_nouns['review_lemmas'] = ''\n",
        "\n",
        "j = 0\n",
        "for i, r in df_nouns.iterrows():\n",
        "  r['review_nouns'] = []\n",
        "  r['review_lemmas'] = []\n",
        "\n",
        "  for w in nlp_sp(r[column]):\n",
        "    if w.text.lower() not in stop_words_pt and w.pos_ == 'NOUN' and w.lemma_:\n",
        "      r['review_nouns'].append(w.text)\n",
        "      r['review_lemmas'].append(w.lemma_)\n",
        "\n",
        "  r['review_nouns'] = \" \".join(r['review_nouns'])\n",
        "  r['review_lemmas'] = \" \".join(r['review_lemmas'])\n",
        "\n",
        "  df_nouns.loc[i] = r\n",
        "\n",
        "  j += 1\n",
        "  if j % 10000 == 0:\n",
        "    print('Interaction:', j)\n",
        "\n",
        "df_nouns.to_csv(folder + '/B2W-Reviews01' + file_suffix + 'Nouns.csv')"
      ],
      "metadata": {
        "id": "9Rpj8c_XvRYT"
      },
      "execution_count": null,
      "outputs": []
    },
    {
      "cell_type": "markdown",
      "source": [
        "### Sentiment Analysis"
      ],
      "metadata": {
        "id": "1eNBL9OJQsnz"
      }
    },
    {
      "cell_type": "code",
      "source": [
        "start = time.time()\n",
        "\n",
        "df_sent = df_nouns.copy()\n",
        "df_sent['review_sent_label'] = ''\n",
        "df_sent['review_sent_score'] = ''\n",
        "\n",
        "j = 0\n",
        "for i, r in df_sent.iterrows():\n",
        "  try:\n",
        "    s = sentiment_classifier(r[column])[0]\n",
        "    r['review_sent_label'] = s['label']\n",
        "    r['review_sent_score'] = s['score']\n",
        "  except:\n",
        "    print(\"Error: \", i)\n",
        "  df_sent.loc[i] = r\n",
        "  j += 1\n",
        "  if j % 10000 == 0:\n",
        "    print('Interaction:', j, 'Elapsed time:', (time.time() - start))\n",
        "    df_sent.to_csv(folder + '/B2W-Reviews01' + file_suffix + 'Sentiments.csv')\n",
        "df_sent.to_csv(folder + '/B2W-Reviews01' + file_suffix + 'Sentiments.csv')\n",
        "print('Elapsed time:', (time.time() - start))"
      ],
      "metadata": {
        "id": "JRIzLbIvIXZ0"
      },
      "execution_count": null,
      "outputs": []
    },
    {
      "cell_type": "markdown",
      "source": [
        "### End"
      ],
      "metadata": {
        "id": "b1Nu2Fn3vhMw"
      }
    }
  ]
}